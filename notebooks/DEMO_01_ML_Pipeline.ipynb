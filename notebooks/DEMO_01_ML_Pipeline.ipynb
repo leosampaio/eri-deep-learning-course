{
 "cells": [
  {
   "cell_type": "markdown",
   "metadata": {},
   "source": [
    "# DEMO #1 Introdução a Aprendizagem de Máquina\n",
    "\n",
    "## Demonstração das ferramentas e do _pipeline_ de _Machine Learning_"
   ]
  },
  {
   "cell_type": "markdown",
   "metadata": {},
   "source": [
    "### Ferramentas\n",
    "\n",
    "Inicialmente vamos instalar as bibliotecas que serão utilizadas. Depois de instalado `Python`, instalamos:\n",
    "\n",
    "- `numpy`: Ferramentas numéricas\n",
    "- `scikit-learn`: Algoritimos de classificação e _helpers_ para ML\n",
    "- `tensorflow`: Biblioteca para grafos de fluxo computacional\n",
    "- `keras`: API de alto nível para Deep Learning\n",
    "- `matplotlib`: Biblioteca para plotar imagens e gráficos\n",
    "\n",
    "Com o comando:\n",
    "\n",
    "```\n",
    "pip install numpy scikit-learn tensorflow keras matplotlib\n",
    "```"
   ]
  },
  {
   "cell_type": "code",
   "execution_count": 1,
   "metadata": {},
   "outputs": [
    {
     "name": "stderr",
     "output_type": "stream",
     "text": [
      "Using TensorFlow backend.\n"
     ]
    }
   ],
   "source": [
    "# testamos a instalação importando as ferramentas\n",
    "%matplotlib inline\n",
    "import tensorflow as tf\n",
    "import numpy as np\n",
    "import keras\n",
    "import sklearn\n",
    "import matplotlib.pyplot as plt"
   ]
  },
  {
   "cell_type": "markdown",
   "metadata": {},
   "source": [
    "### 1º Parte do Pipeline: Dados de Entrada\n",
    "\n",
    "Vamos usar um dataset chamado MNIST; ele é composto de 60 mil imagens dígitos escritos manualmente, preparados para serem classificados entre 0, 1, 2... 10"
   ]
  },
  {
   "cell_type": "code",
   "execution_count": 4,
   "metadata": {},
   "outputs": [
    {
     "name": "stdout",
     "output_type": "stream",
     "text": [
      "Data Shape:  (60000, 28, 28)\n",
      "Labels Shape:  (60000,)\n"
     ]
    }
   ],
   "source": [
    "from keras.datasets import mnist\n",
    "(x_train, y_train), (x_test, y_test) = mnist.load_data()\n",
    "print(\"Data Shape: \", x_train.shape)\n",
    "print(\"Labels Shape: \", y_train.shape)"
   ]
  },
  {
   "cell_type": "code",
   "execution_count": 6,
   "metadata": {},
   "outputs": [
    {
     "data": {
      "text/plain": [
       "<matplotlib.image.AxesImage at 0x11fe55518>"
      ]
     },
     "execution_count": 6,
     "metadata": {},
     "output_type": "execute_result"
    },
    {
     "data": {
      "image/png": "[encoded data removed]",
      "text/plain": [
       "<Figure size 432x288 with 1 Axes>"
      ]
     },
     "metadata": {},
     "output_type": "display_data"
    }
   ],
   "source": [
    "# plot some samples from the dataset\n",
    "plt.imshow(np.concatenate((x_train[0:5]), axis=1), cmap='gray')"
   ]
  },
  {
   "cell_type": "markdown",
   "metadata": {},
   "source": [
    "### 2º Parte do Pipeline: Extração de Características\n",
    "\n",
    "Precisamos extraír características dessas imagens, alguma sugestão? Vamos criar uma função implementando nossa ideia"
   ]
  },
  {
   "cell_type": "code",
   "execution_count": 9,
   "metadata": {},
   "outputs": [],
   "source": [
    "def extract_mean_pixel(x):\n",
    "    mean_pixel = np.mean(x)\n",
    "    return [mean_pixel]"
   ]
  },
  {
   "cell_type": "code",
   "execution_count": 10,
   "metadata": {},
   "outputs": [
    {
     "name": "stdout",
     "output_type": "stream",
     "text": [
      "[[35.10841837]\n",
      " [39.6619898 ]\n",
      " [24.7997449 ]\n",
      " ...\n",
      " [28.22959184]\n",
      " [26.05612245]\n",
      " [26.68367347]]\n"
     ]
    }
   ],
   "source": [
    "# let's first reshape our images so that they become vectors\n",
    "x_train = x_train.reshape((-1, 784))\n",
    "x_test = x_test.reshape((-1, 784))\n",
    "\n",
    "# extract features from each sample\n",
    "training_features = np.array([extract_mean_pixel(x) for x in x_train])\n",
    "testing_features = np.array([extract_mean_pixel(x) for x in x_test])\n",
    "\n",
    "print(training_features)"
   ]
  },
  {
   "cell_type": "markdown",
   "metadata": {},
   "source": [
    "### 3º Parte do Pipeline: Algotitimo de Classificação\n",
    "\n",
    "Para demonstração, vamos arbitrariamente escolher o algoritimo **SVM**"
   ]
  },
  {
   "cell_type": "code",
   "execution_count": 11,
   "metadata": {},
   "outputs": [],
   "source": [
    "from sklearn.svm import SVC as AClassificationAlgorithm\n",
    "\n",
    "classification_algorithm = AClassificationAlgorithm()\n",
    "\n",
    "# train on our training set\n",
    "classification_algorithm.fit(training_features, y_train)\n",
    "\n",
    "# and we test on the testing set\n",
    "expected_result = y_test\n",
    "predicted_result = classification_algorithm.predict(testing_features)"
   ]
  },
  {
   "cell_type": "markdown",
   "metadata": {},
   "source": [
    "### Última parte: Custo, Risco e Generalização"
   ]
  },
  {
   "cell_type": "code",
   "execution_count": 12,
   "metadata": {},
   "outputs": [
    {
     "name": "stdout",
     "output_type": "stream",
     "text": [
      "0-1 Loss:  [ True  True False ...  True  True  True]\n"
     ]
    }
   ],
   "source": [
    "# 0-1 Loss\n",
    "zero_one_loss = expected_result != predicted_result\n",
    "print(\"0-1 Loss: \", zero_one_loss)"
   ]
  },
  {
   "cell_type": "code",
   "execution_count": 13,
   "metadata": {},
   "outputs": [
    {
     "name": "stdout",
     "output_type": "stream",
     "text": [
      "0-1 Risk:  0.7705\n"
     ]
    }
   ],
   "source": [
    "zero_one_risk = np.sum(zero_one_loss)/len(testing_features)\n",
    "print(\"0-1 Risk: \", zero_one_risk)"
   ]
  },
  {
   "cell_type": "markdown",
   "metadata": {},
   "source": [
    "Mas de que tipo de risco estamos falando aqui? **Risco em dados de teste**"
   ]
  },
  {
   "cell_type": "code",
   "execution_count": 15,
   "metadata": {},
   "outputs": [
    {
     "name": "stdout",
     "output_type": "stream",
     "text": [
      "Training Data Risk:  0.7668833333333334\n"
     ]
    }
   ],
   "source": [
    "# risk on training data\n",
    "training_data_loss = classification_algorithm.predict(training_features) != y_train\n",
    "training_data_risk = np.sum(training_data_loss)/len(x_train)\n",
    "print(\"Training Data Risk: \", training_data_risk)"
   ]
  },
  {
   "cell_type": "markdown",
   "metadata": {},
   "source": [
    "Assumindo que nossos dados de teste são um bom chute para os dados reais, podemos calcular a generalização"
   ]
  },
  {
   "cell_type": "code",
   "execution_count": null,
   "metadata": {},
   "outputs": [],
   "source": [
    "# calculate generalization of our classifier\n",
    "approximate_real_risk = zero_one_risk\n",
    "generalization = np.abs(training_data_risk - approximate_real_risk)\n",
    "print(\"Generalization: \", generalization)"
   ]
  }
 ],
 "metadata": {
  "kernelspec": {
   "display_name": "Python 3",
   "language": "python",
   "name": "python3"
  },
  "language_info": {
   "codemirror_mode": {
    "name": "ipython",
    "version": 3
   },
   "file_extension": ".py",
   "mimetype": "text/x-python",
   "name": "python",
   "nbconvert_exporter": "python",
   "pygments_lexer": "ipython3",
   "version": "3.6.4"
  }
 },
 "nbformat": 4,
 "nbformat_minor": 2
}
