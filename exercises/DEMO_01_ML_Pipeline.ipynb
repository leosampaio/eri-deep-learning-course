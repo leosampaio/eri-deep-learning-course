{
 "cells": [
  {
   "cell_type": "markdown",
   "metadata": {},
   "source": [
    "# DEMO #1 Introdução a Aprendizagem de Máquina\n",
    "\n",
    "## Demonstração das ferramentas e do _pipeline_ de _Machine Learning_"
   ]
  },
  {
   "cell_type": "markdown",
   "metadata": {},
   "source": [
    "### Ferramentas\n",
    "\n",
    "Inicialmente vamos instalar as bibliotecas que serão utilizadas. Depois de instalado `Python`, instalamos:\n",
    "\n",
    "- `numpy`: Ferramentas numéricas\n",
    "- `scikit-learn`: Algoritimos de classificação e _helpers_ para ML\n",
    "- `tensorflow`: Biblioteca para grafos de fluxo computacional\n",
    "- `keras`: API de alto nível para Deep Learning\n",
    "- `matplotlib`: Biblioteca para plotar imagens e gráficos\n",
    "\n",
    "Com o comando:\n",
    "\n",
    "```\n",
    "pip install numpy scikit-learn tensorflow keras matplotlib\n",
    "```"
   ]
  },
  {
   "cell_type": "code",
   "execution_count": null,
   "metadata": {},
   "outputs": [],
   "source": [
    "# testamos a instalação importando as ferramentas\n",
    "%matplotlib inline"
   ]
  },
  {
   "cell_type": "markdown",
   "metadata": {},
   "source": [
    "### 1º Parte do Pipeline: Dados de Entrada\n",
    "\n",
    "Vamos usar um dataset chamado MNIST; ele é composto de 60 mil imagens dígitos escritos manualmente, preparados para serem classificados entre 0, 1, 2... 10"
   ]
  },
  {
   "cell_type": "code",
   "execution_count": null,
   "metadata": {},
   "outputs": [],
   "source": []
  },
  {
   "cell_type": "code",
   "execution_count": null,
   "metadata": {},
   "outputs": [],
   "source": [
    "# plot some samples from the dataset\n"
   ]
  },
  {
   "cell_type": "markdown",
   "metadata": {},
   "source": [
    "### 2º Parte do Pipeline: Extração de Características\n",
    "\n",
    "Precisamos extraír características dessas imagens, alguma sugestão? Vamos criar uma função implementando nossa ideia"
   ]
  },
  {
   "cell_type": "code",
   "execution_count": null,
   "metadata": {},
   "outputs": [],
   "source": [
    "def extract_feature(x):\n",
    "    # write your feat extraction code here"
   ]
  },
  {
   "cell_type": "code",
   "execution_count": null,
   "metadata": {},
   "outputs": [],
   "source": [
    "# let's first reshape our images so that they become vectors\n",
    "\n",
    "# extract features from each sample\n"
   ]
  },
  {
   "cell_type": "markdown",
   "metadata": {},
   "source": [
    "### 3º Parte do Pipeline: Algotitimo de Classificação\n",
    "\n",
    "Para demonstração, vamos arbitrariamente escolher o algoritimo **SVM**"
   ]
  },
  {
   "cell_type": "code",
   "execution_count": null,
   "metadata": {},
   "outputs": [],
   "source": [
    "# import the classification algorithm\n",
    "\n",
    "# train on our training set\n",
    "\n",
    "# and we test on the testing set\n"
   ]
  },
  {
   "cell_type": "markdown",
   "metadata": {},
   "source": [
    "### Última parte: Custo, Risco e Generalização"
   ]
  },
  {
   "cell_type": "code",
   "execution_count": null,
   "metadata": {},
   "outputs": [],
   "source": [
    "# 0-1 Loss\n"
   ]
  },
  {
   "cell_type": "code",
   "execution_count": null,
   "metadata": {},
   "outputs": [],
   "source": [
    "# Risk on testing set"
   ]
  },
  {
   "cell_type": "markdown",
   "metadata": {},
   "source": [
    "Mas de que tipo de risco estamos falando aqui? **Risco em dados de teste**"
   ]
  },
  {
   "cell_type": "code",
   "execution_count": null,
   "metadata": {},
   "outputs": [],
   "source": [
    "# risk on training data\n"
   ]
  },
  {
   "cell_type": "markdown",
   "metadata": {},
   "source": [
    "Assumindo que nossos dados de teste são um bom chute para os dados reais, podemos calcular a generalização"
   ]
  },
  {
   "cell_type": "code",
   "execution_count": null,
   "metadata": {},
   "outputs": [],
   "source": [
    "# calculate generalization of our classifier\n"
   ]
  }
 ],
 "metadata": {
  "kernelspec": {
   "display_name": "Python 3",
   "language": "python",
   "name": "python3"
  },
  "language_info": {
   "codemirror_mode": {
    "name": "ipython",
    "version": 3
   },
   "file_extension": ".py",
   "mimetype": "text/x-python",
   "name": "python",
   "nbconvert_exporter": "python",
   "pygments_lexer": "ipython3",
   "version": "3.6.4"
  }
 },
 "nbformat": 4,
 "nbformat_minor": 2
}
